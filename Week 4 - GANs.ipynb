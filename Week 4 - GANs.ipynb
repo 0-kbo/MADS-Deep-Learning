{
 "cells": [
  {
   "cell_type": "markdown",
   "metadata": {
    "nbgrader": {
     "grade": false,
     "grade_id": "cell-9caf0b25af95e666",
     "locked": true,
     "schema_version": 1,
     "solution": false
    }
   },
   "source": [
    "# Homework 4: Adversarial Models (100 points)\n",
    "\n",
    "### Overview\n",
    "\n",
    "Finally, we will review adversarial machine learning models, a powerful paradigm that encompasses multiple classes of predictive models. These models can be used for anything from image generation to data augmentation to text translation.\n",
    "\n",
    "### Model Architecture\n",
    "\n",
    "An adversarial model consists of two pieces: a generator and a discriminator. The generator produces some output using a given noise vector (for example, an artificial image). The goal of the discriminator is then to differentiate real images from generated images.\n",
    "\n",
    "The discriminator can be trained directly using ground-truth data, and the generator can then be trained in a feedback loop with the discriminator. In this way, the generator aims to fool the discriminator, and the discriminator aims to become more and more discerning.\n",
    "\n",
    "### Your Task\n",
    "\n",
    "Complete the questions below. Note that while most of this assignment refers to GANs (Generative Adversarial Networks), the first question speaks to generative models as a broader model architecture rather than GANs specifically.\n",
    "\n",
    "Below each question is a cell with the text “Type Markdown and LaTex.” Double-click the cell and type your response to the question. Save your responses by clicking on the floppy disk icon or choosing File - Save and Checkpoint.\n",
    "\n",
    "After responding to the questions, download your notebook as a `.html` file by choosing File - Download as - html (.html). You will be submitting this `.html` file to your instructor for grading."
   ]
  },
  {
   "cell_type": "markdown",
   "metadata": {
    "nbgrader": {
     "grade": false,
     "grade_id": "cell-1b3da469e852c753",
     "locked": true,
     "schema_version": 1,
     "solution": false
    }
   },
   "source": [
    "## Homework Questions"
   ]
  },
  {
   "cell_type": "markdown",
   "metadata": {
    "nbgrader": {
     "grade": false,
     "grade_id": "cell-c4caca627cfcf41a",
     "locked": true,
     "schema_version": 1,
     "solution": false
    }
   },
   "source": [
    "### Question 1: Generative Models vs Discriminative Models (20 points)\n",
    "\n",
    "What are the key differences between a generative model and a discriminative model from a statistical point of view? Explain them. "
   ]
  },
  {
   "cell_type": "markdown",
   "metadata": {
    "nbgrader": {
     "grade": true,
     "grade_id": "cell-7c8a18d9e9e06243",
     "locked": false,
     "points": 0,
     "schema_version": 1,
     "solution": true
    }
   },
   "source": [
    "A generative models allow us to generate new data instances from a given data distribution.  Generative models model how data is placed throughout space. Generative models allow you to capture the probability of x (the features) given y (a label) (p(x|y).  Discriminative models on the other hand try to classify input data.  Given x (the features) they predict the y (the label / category that data belongs) (p(y|x))."
   ]
  },
  {
   "cell_type": "markdown",
   "metadata": {
    "nbgrader": {
     "grade": false,
     "grade_id": "cell-1a2db2f4d5240ece",
     "locked": true,
     "schema_version": 1,
     "solution": false
    }
   },
   "source": [
    "### Question 2: GAN Trade-offs (20 points)\n",
    "\n",
    "What are the main advantages and disadvantages of GANs over standard machine learning models? Explain them."
   ]
  },
  {
   "cell_type": "markdown",
   "metadata": {
    "nbgrader": {
     "grade": true,
     "grade_id": "cell-a2a6cd11310b3e42",
     "locked": false,
     "points": 0,
     "schema_version": 1,
     "solution": true
    }
   },
   "source": [
    "Some advantages of GANs are that they are able to model high-dimensional data and have the ability to handle missing data.  By generating data that is similar to real data, GANs also provide a path toward more training for modeling beyond simple data augmentation techniques used in other standard machine learning models.  These advantages come with some trad-offs.  The disadvantages of GANs are that they take a long time and data to train, which make them complex, and evaluating and comparing GANs often requires expert knowledge. "
   ]
  },
  {
   "cell_type": "markdown",
   "metadata": {
    "nbgrader": {
     "grade": false,
     "grade_id": "cell-4fdaa5956fa3aa9d",
     "locked": true,
     "schema_version": 1,
     "solution": false
    }
   },
   "source": [
    "### Question 3: Adversarial Attacks (20 points)\n",
    "\n",
    "What is an adversarial attack on a machine learning model? Explain how it works."
   ]
  },
  {
   "cell_type": "markdown",
   "metadata": {
    "nbgrader": {
     "grade": true,
     "grade_id": "cell-1834d95dca8b9d81",
     "locked": false,
     "points": 0,
     "schema_version": 1,
     "solution": true
    }
   },
   "source": [
    "Adversarial attacks are techniques that attempt to fool machine learning models with deceptive data. Attacks might add small but intentionally deceptive data to training data to cause the neural network to misclassify the input data with high precision.  Or attacks may introduce maliciously designed data to deceive an already trained model. Attacks work by malicious actors gaining access to adversarial neurel nets and introducing adversarial data in the form of small transformations to the input images.  Those adversarial inputs are fed into the network and transform the learned features for a new task. "
   ]
  },
  {
   "cell_type": "markdown",
   "metadata": {
    "nbgrader": {
     "grade": false,
     "grade_id": "cell-cdd75c5b4ec3903f",
     "locked": true,
     "schema_version": 1,
     "solution": false
    }
   },
   "source": [
    "### Question 4: Retraining (20 points)\n",
    "\n",
    "A company has found that their internal image recognition tool is producing empirically poor output for a set of images submitted by their users. Upon further investigation, it is determined that these poor performing images are adversarial attacks designed to fool their image recognition software. However, the same set of images are reused by these attackers over and over. Given this set of successful adversarial attacks, how could this be mitigated in the short run? Will this work in the long run? Why or why not?"
   ]
  },
  {
   "cell_type": "markdown",
   "metadata": {
    "nbgrader": {
     "grade": true,
     "grade_id": "cell-d3b35e93dbc5a77f",
     "locked": false,
     "points": 0,
     "schema_version": 1,
     "solution": true
    }
   },
   "source": [
    "I would recommend mitigating this attack in the short run using a retraining strategy.  Retraining is the process of training the classifier again with the adversarial images added to the original training data to increase the robustness of the training set. In order to determine the true labels of the adversarial images accurately, I would use the KNN algorithm which should be able to classify the adversarial images as such because of their distance from the original images. Whether this strategy would work in the long run is really dependent on what kind of attack this is.  Adversarial attacks can have many different flavors (targeted vs non-targeted, black-box vs white-box).  Given the description of the attack, we can assume this is a non-targeted attack.  If the attack were white-box, and the actors have access to the entire architecture of the targeted network, then my recoomendation would not work in the long run (the actors still have access to the new retrained network).  However, if the attack is black-box and the architecture is completely unknown to the attackers, then my recommendation is likely to continue working in the long run. "
   ]
  },
  {
   "cell_type": "markdown",
   "metadata": {
    "nbgrader": {
     "grade": false,
     "grade_id": "cell-58eaae5215ab9ca0",
     "locked": true,
     "schema_version": 1,
     "solution": false
    }
   },
   "source": [
    "### Question 5: Applications (20 points)\n",
    "\n",
    "What are potential applications of GANs? Research and briefly present three machine learning innovations that used GANs."
   ]
  },
  {
   "cell_type": "markdown",
   "metadata": {
    "nbgrader": {
     "grade": true,
     "grade_id": "cell-756d167bcd92b2c0",
     "locked": false,
     "points": 0,
     "schema_version": 1,
     "solution": true
    }
   },
   "source": [
    "1 - Han Zhang, et al. demonstrate using GANs to generate realistic looking photographs from textual descriptions of simple objects like birds and flowers. Examples include text that reads, \"this bird is black with green and has a very short beak\" resulting in a series of real looking photographs of just that--a black and green bird with a short beak.\n",
    "\n",
    "2 - Liqian Ma, et al. present a paper utilizing GANs to generate synthesized \"person images in arbitrary poses, based on an image of that person and a novel pose.\"  They were able to generate image results of human figures posing based on the target pose input.  Marketing/advertising folks could efficiently scale the scale and type of posed photos they have access to. \n",
    "\n",
    "3 - Grigory Antipov, et al. used GANs to generate photographs of faces on a spectrum of the input face from younger to older. Their method emphasized preserving the original person's identity in the aged version of his/her face. Their model takes a face image as an input and outputs that face's aging in certain age ranges (ex: 0-18, 19-29, 30-39, etc.). "
   ]
  }
 ],
 "metadata": {
  "kernelspec": {
   "display_name": "Python 3 (ipykernel)",
   "language": "python",
   "name": "python3"
  },
  "language_info": {
   "codemirror_mode": {
    "name": "ipython",
    "version": 3
   },
   "file_extension": ".py",
   "mimetype": "text/x-python",
   "name": "python",
   "nbconvert_exporter": "python",
   "pygments_lexer": "ipython3",
   "version": "3.8.10"
  }
 },
 "nbformat": 4,
 "nbformat_minor": 2
}
